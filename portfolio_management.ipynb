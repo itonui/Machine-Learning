{
  "nbformat": 4,
  "nbformat_minor": 0,
  "metadata": {
    "colab": {
      "provenance": [],
      "authorship_tag": "ABX9TyMjvaotnOeN9rXBwYQC5tq9",
      "include_colab_link": true
    },
    "kernelspec": {
      "name": "python3",
      "display_name": "Python 3"
    },
    "language_info": {
      "name": "python"
    }
  },
  "cells": [
    {
      "cell_type": "markdown",
      "metadata": {
        "id": "view-in-github",
        "colab_type": "text"
      },
      "source": [
        "<a href=\"https://colab.research.google.com/github/itonui/Machine-Learning/blob/main/portfolio_management.ipynb\" target=\"_parent\"><img src=\"https://colab.research.google.com/assets/colab-badge.svg\" alt=\"Open In Colab\"/></a>"
      ]
    },
    {
      "cell_type": "markdown",
      "source": [
        "Set Up SQLite Database"
      ],
      "metadata": {
        "id": "t_Z_zUkq0cdR"
      }
    },
    {
      "cell_type": "code",
      "execution_count": 1,
      "metadata": {
        "colab": {
          "base_uri": "https://localhost:8080/"
        },
        "id": "-pSODlvX0HiR",
        "outputId": "7489f016-f46d-4dd8-e3e9-a437bb763dad"
      },
      "outputs": [
        {
          "output_type": "stream",
          "name": "stdout",
          "text": [
            "Database setup complete!\n"
          ]
        }
      ],
      "source": [
        "import sqlite3\n",
        "\n",
        "# Connect to an SQLite database in Colab runtime\n",
        "conn = sqlite3.connect(\"portfolio.db\")\n",
        "cursor = conn.cursor()\n",
        "\n",
        "# Create table for financial assets\n",
        "cursor.execute('''\n",
        "CREATE TABLE IF NOT EXISTS financial_assets (\n",
        "    asset_id INTEGER PRIMARY KEY AUTOINCREMENT,\n",
        "    asset_name TEXT,\n",
        "    asset_symbol TEXT,\n",
        "    asset_type TEXT,\n",
        "    purchase_price REAL,\n",
        "    current_price REAL,\n",
        "    purchase_date TEXT,\n",
        "    quantity INTEGER\n",
        ")\n",
        "''')\n",
        "\n",
        "conn.commit()\n",
        "conn.close()\n",
        "print(\"Database setup complete!\")\n"
      ]
    },
    {
      "cell_type": "markdown",
      "source": [
        " Insert Sample Data"
      ],
      "metadata": {
        "id": "1ZGgWyH90flw"
      }
    },
    {
      "cell_type": "code",
      "source": [
        "def insert_sample_data():\n",
        "    assets = [\n",
        "        (\"Apple\", \"AAPL\", \"Stock\", 150.00, 0, \"2023-06-01\", 10),\n",
        "        (\"Tesla\", \"TSLA\", \"Stock\", 200.00, 0, \"2023-07-15\", 5),\n",
        "        (\"Amazon\", \"AMZN\", \"Stock\", 110.00, 0, \"2023-08-20\", 8),\n",
        "    ]\n",
        "\n",
        "    conn = sqlite3.connect(\"portfolio.db\")\n",
        "    cursor = conn.cursor()\n",
        "\n",
        "    cursor.executemany('''\n",
        "    INSERT INTO financial_assets (asset_name, asset_symbol, asset_type, purchase_price, current_price, purchase_date, quantity)\n",
        "    VALUES (?, ?, ?, ?, ?, ?, ?)\n",
        "    ''', assets)\n",
        "\n",
        "    conn.commit()\n",
        "    conn.close()\n",
        "    print(\"Sample data inserted!\")\n",
        "\n",
        "insert_sample_data()\n"
      ],
      "metadata": {
        "colab": {
          "base_uri": "https://localhost:8080/"
        },
        "id": "_RmaVrsb0VJI",
        "outputId": "bef778ae-5e01-4ae4-9d2b-aa02991705cf"
      },
      "execution_count": 2,
      "outputs": [
        {
          "output_type": "stream",
          "name": "stdout",
          "text": [
            "Sample data inserted!\n"
          ]
        }
      ]
    },
    {
      "cell_type": "markdown",
      "source": [
        "Install yfinance and Fetch Stock Prices"
      ],
      "metadata": {
        "id": "6uz18EXp0qwv"
      }
    },
    {
      "cell_type": "code",
      "source": [
        "!pip install yfinance\n"
      ],
      "metadata": {
        "colab": {
          "base_uri": "https://localhost:8080/"
        },
        "collapsed": true,
        "id": "XFOT53Ae0oqb",
        "outputId": "489eee29-3e25-40eb-eb62-cbe577b06802"
      },
      "execution_count": 3,
      "outputs": [
        {
          "output_type": "stream",
          "name": "stdout",
          "text": [
            "Requirement already satisfied: yfinance in /usr/local/lib/python3.11/dist-packages (0.2.52)\n",
            "Requirement already satisfied: pandas>=1.3.0 in /usr/local/lib/python3.11/dist-packages (from yfinance) (2.2.2)\n",
            "Requirement already satisfied: numpy>=1.16.5 in /usr/local/lib/python3.11/dist-packages (from yfinance) (1.26.4)\n",
            "Requirement already satisfied: requests>=2.31 in /usr/local/lib/python3.11/dist-packages (from yfinance) (2.32.3)\n",
            "Requirement already satisfied: multitasking>=0.0.7 in /usr/local/lib/python3.11/dist-packages (from yfinance) (0.0.11)\n",
            "Requirement already satisfied: lxml>=4.9.1 in /usr/local/lib/python3.11/dist-packages (from yfinance) (5.3.0)\n",
            "Requirement already satisfied: platformdirs>=2.0.0 in /usr/local/lib/python3.11/dist-packages (from yfinance) (4.3.6)\n",
            "Requirement already satisfied: pytz>=2022.5 in /usr/local/lib/python3.11/dist-packages (from yfinance) (2025.1)\n",
            "Requirement already satisfied: frozendict>=2.3.4 in /usr/local/lib/python3.11/dist-packages (from yfinance) (2.4.6)\n",
            "Requirement already satisfied: peewee>=3.16.2 in /usr/local/lib/python3.11/dist-packages (from yfinance) (3.17.8)\n",
            "Requirement already satisfied: beautifulsoup4>=4.11.1 in /usr/local/lib/python3.11/dist-packages (from yfinance) (4.13.1)\n",
            "Requirement already satisfied: html5lib>=1.1 in /usr/local/lib/python3.11/dist-packages (from yfinance) (1.1)\n",
            "Requirement already satisfied: soupsieve>1.2 in /usr/local/lib/python3.11/dist-packages (from beautifulsoup4>=4.11.1->yfinance) (2.6)\n",
            "Requirement already satisfied: typing-extensions>=4.0.0 in /usr/local/lib/python3.11/dist-packages (from beautifulsoup4>=4.11.1->yfinance) (4.12.2)\n",
            "Requirement already satisfied: six>=1.9 in /usr/local/lib/python3.11/dist-packages (from html5lib>=1.1->yfinance) (1.17.0)\n",
            "Requirement already satisfied: webencodings in /usr/local/lib/python3.11/dist-packages (from html5lib>=1.1->yfinance) (0.5.1)\n",
            "Requirement already satisfied: python-dateutil>=2.8.2 in /usr/local/lib/python3.11/dist-packages (from pandas>=1.3.0->yfinance) (2.8.2)\n",
            "Requirement already satisfied: tzdata>=2022.7 in /usr/local/lib/python3.11/dist-packages (from pandas>=1.3.0->yfinance) (2025.1)\n",
            "Requirement already satisfied: charset-normalizer<4,>=2 in /usr/local/lib/python3.11/dist-packages (from requests>=2.31->yfinance) (3.4.1)\n",
            "Requirement already satisfied: idna<4,>=2.5 in /usr/local/lib/python3.11/dist-packages (from requests>=2.31->yfinance) (3.10)\n",
            "Requirement already satisfied: urllib3<3,>=1.21.1 in /usr/local/lib/python3.11/dist-packages (from requests>=2.31->yfinance) (2.3.0)\n",
            "Requirement already satisfied: certifi>=2017.4.17 in /usr/local/lib/python3.11/dist-packages (from requests>=2.31->yfinance) (2025.1.31)\n"
          ]
        }
      ]
    },
    {
      "cell_type": "code",
      "source": [
        "import yfinance as yf\n",
        "\n",
        "def update_prices():\n",
        "    conn = sqlite3.connect(\"portfolio.db\")\n",
        "    cursor = conn.cursor()\n",
        "\n",
        "    cursor.execute(\"SELECT asset_symbol FROM financial_assets\")\n",
        "    symbols = [row[0] for row in cursor.fetchall()]\n",
        "\n",
        "    for symbol in symbols:\n",
        "        stock = yf.Ticker(symbol)\n",
        "        current_price = stock.history(period=\"1d\")[\"Close\"].iloc[-1]\n",
        "\n",
        "        cursor.execute(\"UPDATE financial_assets SET current_price = ? WHERE asset_symbol = ?\", (current_price, symbol))\n",
        "\n",
        "    conn.commit()\n",
        "    conn.close()\n",
        "    print(\"Stock prices updated!\")\n",
        "\n",
        "update_prices()\n"
      ],
      "metadata": {
        "colab": {
          "base_uri": "https://localhost:8080/"
        },
        "id": "qbeJZ6Sw00dI",
        "outputId": "4e256282-128a-4b47-ada1-349fec435dd4"
      },
      "execution_count": 4,
      "outputs": [
        {
          "output_type": "stream",
          "name": "stdout",
          "text": [
            "Stock prices updated!\n"
          ]
        }
      ]
    },
    {
      "cell_type": "markdown",
      "source": [
        "Portfolio Performance Analysis"
      ],
      "metadata": {
        "id": "qOF8Dyf91PI4"
      }
    },
    {
      "cell_type": "code",
      "source": [
        "import pandas as pd\n",
        "\n",
        "def analyze_portfolio():\n",
        "    conn = sqlite3.connect(\"portfolio.db\")\n",
        "    df = pd.read_sql_query(\"SELECT * FROM financial_assets\", conn)\n",
        "    conn.close()\n",
        "\n",
        "    # Calculate total investment and current value\n",
        "    df[\"total_investment\"] = df[\"purchase_price\"] * df[\"quantity\"]\n",
        "    df[\"current_value\"] = df[\"current_price\"] * df[\"quantity\"]\n",
        "    df[\"profit_loss\"] = df[\"current_value\"] - df[\"total_investment\"]\n",
        "    df[\"return_%\"] = (df[\"profit_loss\"] / df[\"total_investment\"]) * 100\n",
        "\n",
        "    # Portfolio summary\n",
        "    total_investment = df[\"total_investment\"].sum()\n",
        "    total_value = df[\"current_value\"].sum()\n",
        "    overall_return = ((total_value - total_investment) / total_investment) * 100\n",
        "\n",
        "    print(df[[\"asset_name\", \"total_investment\", \"current_value\", \"profit_loss\", \"return_%\"]])\n",
        "    print(f\"\\nTotal Investment: ${total_investment:,.2f}\")\n",
        "    print(f\"Current Portfolio Value: ${total_value:,.2f}\")\n",
        "    print(f\"Overall Portfolio Return: {overall_return:.2f}%\")\n",
        "\n",
        "analyze_portfolio()\n"
      ],
      "metadata": {
        "colab": {
          "base_uri": "https://localhost:8080/"
        },
        "id": "f-Vusuyo1MV2",
        "outputId": "6c81fa4f-9c92-4cb2-844d-b5092cf6a163"
      },
      "execution_count": 5,
      "outputs": [
        {
          "output_type": "stream",
          "name": "stdout",
          "text": [
            "  asset_name  total_investment  current_value  profit_loss    return_%\n",
            "0      Apple            1500.0    2332.200012   832.200012   55.480001\n",
            "1      Tesla            1000.0    1871.600037   871.600037   87.160004\n",
            "2     Amazon             880.0    1910.640015  1030.640015  117.118183\n",
            "\n",
            "Total Investment: $3,380.00\n",
            "Current Portfolio Value: $6,114.44\n",
            "Overall Portfolio Return: 80.90%\n"
          ]
        }
      ]
    },
    {
      "cell_type": "markdown",
      "source": [
        "Visualize Portfolio Performance"
      ],
      "metadata": {
        "id": "I7ay1I2e1XFW"
      }
    },
    {
      "cell_type": "code",
      "source": [
        "import matplotlib.pyplot as plt\n",
        "\n",
        "def visualize_portfolio():\n",
        "    conn = sqlite3.connect(\"portfolio.db\")\n",
        "    df = pd.read_sql_query(\"SELECT asset_name, purchase_price, current_price FROM financial_assets\", conn)\n",
        "    conn.close()\n",
        "\n",
        "    df[\"profit_loss\"] = df[\"current_price\"] - df[\"purchase_price\"]\n",
        "\n",
        "    plt.figure(figsize=(8, 5))\n",
        "    plt.bar(df[\"asset_name\"], df[\"profit_loss\"], color=[\"green\" if x > 0 else \"red\" for x in df[\"profit_loss\"]])\n",
        "    plt.xlabel(\"Assets\")\n",
        "    plt.ylabel(\"Profit/Loss ($)\")\n",
        "    plt.title(\"Portfolio Performance\")\n",
        "    plt.show()\n",
        "\n",
        "visualize_portfolio()\n"
      ],
      "metadata": {
        "colab": {
          "base_uri": "https://localhost:8080/",
          "height": 487
        },
        "id": "cE-G50yT1cSO",
        "outputId": "5caeb718-743d-4594-c63b-5bc9f25c45c1"
      },
      "execution_count": 6,
      "outputs": [
        {
          "output_type": "display_data",
          "data": {
            "text/plain": [
              "<Figure size 800x500 with 1 Axes>"
            ],
            "image/png": "[encoded data removed]"
          },
          "metadata": {}
        }
      ]
    },
    {
      "cell_type": "markdown",
      "source": [
        "Automate Risk Analysis"
      ],
      "metadata": {
        "id": "8eLFiR9P1hS7"
      }
    },
    {
      "cell_type": "code",
      "source": [
        "import numpy as np\n",
        "\n",
        "def calculate_risk():\n",
        "    conn = sqlite3.connect(\"portfolio.db\")\n",
        "    df = pd.read_sql_query(\"SELECT asset_name, purchase_price, current_price FROM financial_assets\", conn)\n",
        "    conn.close()\n",
        "\n",
        "    df[\"daily_return\"] = (df[\"current_price\"] - df[\"purchase_price\"]) / df[\"purchase_price\"]\n",
        "    portfolio_risk = np.std(df[\"daily_return\"]) * 100  # Convert to %\n",
        "\n",
        "    print(f\"Portfolio Volatility (Risk): {portfolio_risk:.2f}%\")\n",
        "\n",
        "calculate_risk()\n"
      ],
      "metadata": {
        "colab": {
          "base_uri": "https://localhost:8080/"
        },
        "id": "ziXmr_f01jTj",
        "outputId": "84b9f53f-2df9-4ac2-ff1d-8671275ad6a6"
      },
      "execution_count": 7,
      "outputs": [
        {
          "output_type": "stream",
          "name": "stdout",
          "text": [
            "Portfolio Volatility (Risk): 25.17%\n"
          ]
        }
      ]
    },
    {
      "cell_type": "markdown",
      "source": [
        "Predict Stock Prices using LSTM (Long Short-Term Memory) Networks."
      ],
      "metadata": {
        "id": "2qjhRTvH2QS_"
      }
    },
    {
      "cell_type": "code",
      "source": [
        "!pip install yfinance tensorflow scikit-learn\n"
      ],
      "metadata": {
        "colab": {
          "base_uri": "https://localhost:8080/"
        },
        "collapsed": true,
        "id": "BtOjAi4S2SaE",
        "outputId": "5a90a313-76e2-4576-9cb1-e69941f9ebae"
      },
      "execution_count": 8,
      "outputs": [
        {
          "output_type": "stream",
          "name": "stdout",
          "text": [
            "Requirement already satisfied: yfinance in /usr/local/lib/python3.11/dist-packages (0.2.52)\n",
            "Requirement already satisfied: tensorflow in /usr/local/lib/python3.11/dist-packages (2.18.0)\n",
            "Requirement already satisfied: scikit-learn in /usr/local/lib/python3.11/dist-packages (1.6.1)\n",
            "Requirement already satisfied: pandas>=1.3.0 in /usr/local/lib/python3.11/dist-packages (from yfinance) (2.2.2)\n",
            "Requirement already satisfied: numpy>=1.16.5 in /usr/local/lib/python3.11/dist-packages (from yfinance) (1.26.4)\n",
            "Requirement already satisfied: requests>=2.31 in /usr/local/lib/python3.11/dist-packages (from yfinance) (2.32.3)\n",
            "Requirement already satisfied: multitasking>=0.0.7 in /usr/local/lib/python3.11/dist-packages (from yfinance) (0.0.11)\n",
            "Requirement already satisfied: lxml>=4.9.1 in /usr/local/lib/python3.11/dist-packages (from yfinance) (5.3.0)\n",
            "Requirement already satisfied: platformdirs>=2.0.0 in /usr/local/lib/python3.11/dist-packages (from yfinance) (4.3.6)\n",
            "Requirement already satisfied: pytz>=2022.5 in /usr/local/lib/python3.11/dist-packages (from yfinance) (2025.1)\n",
            "Requirement already satisfied: frozendict>=2.3.4 in /usr/local/lib/python3.11/dist-packages (from yfinance) (2.4.6)\n",
            "Requirement already satisfied: peewee>=3.16.2 in /usr/local/lib/python3.11/dist-packages (from yfinance) (3.17.8)\n",
            "Requirement already satisfied: beautifulsoup4>=4.11.1 in /usr/local/lib/python3.11/dist-packages (from yfinance) (4.13.1)\n",
            "Requirement already satisfied: html5lib>=1.1 in /usr/local/lib/python3.11/dist-packages (from yfinance) (1.1)\n",
            "Requirement already satisfied: absl-py>=1.0.0 in /usr/local/lib/python3.11/dist-packages (from tensorflow) (1.4.0)\n",
            "Requirement already satisfied: astunparse>=1.6.0 in /usr/local/lib/python3.11/dist-packages (from tensorflow) (1.6.3)\n",
            "Requirement already satisfied: flatbuffers>=24.3.25 in /usr/local/lib/python3.11/dist-packages (from tensorflow) (25.1.24)\n",
            "Requirement already satisfied: gast!=0.5.0,!=0.5.1,!=0.5.2,>=0.2.1 in /usr/local/lib/python3.11/dist-packages (from tensorflow) (0.6.0)\n",
            "Requirement already satisfied: google-pasta>=0.1.1 in /usr/local/lib/python3.11/dist-packages (from tensorflow) (0.2.0)\n",
            "Requirement already satisfied: libclang>=13.0.0 in /usr/local/lib/python3.11/dist-packages (from tensorflow) (18.1.1)\n",
            "Requirement already satisfied: opt-einsum>=2.3.2 in /usr/local/lib/python3.11/dist-packages (from tensorflow) (3.4.0)\n",
            "Requirement already satisfied: packaging in /usr/local/lib/python3.11/dist-packages (from tensorflow) (24.2)\n",
            "Requirement already satisfied: protobuf!=4.21.0,!=4.21.1,!=4.21.2,!=4.21.3,!=4.21.4,!=4.21.5,<6.0.0dev,>=3.20.3 in /usr/local/lib/python3.11/dist-packages (from tensorflow) (4.25.6)\n",
            "Requirement already satisfied: setuptools in /usr/local/lib/python3.11/dist-packages (from tensorflow) (75.1.0)\n",
            "Requirement already satisfied: six>=1.12.0 in /usr/local/lib/python3.11/dist-packages (from tensorflow) (1.17.0)\n",
            "Requirement already satisfied: termcolor>=1.1.0 in /usr/local/lib/python3.11/dist-packages (from tensorflow) (2.5.0)\n",
            "Requirement already satisfied: typing-extensions>=3.6.6 in /usr/local/lib/python3.11/dist-packages (from tensorflow) (4.12.2)\n",
            "Requirement already satisfied: wrapt>=1.11.0 in /usr/local/lib/python3.11/dist-packages (from tensorflow) (1.17.2)\n",
            "Requirement already satisfied: grpcio<2.0,>=1.24.3 in /usr/local/lib/python3.11/dist-packages (from tensorflow) (1.70.0)\n",
            "Requirement already satisfied: tensorboard<2.19,>=2.18 in /usr/local/lib/python3.11/dist-packages (from tensorflow) (2.18.0)\n",
            "Requirement already satisfied: keras>=3.5.0 in /usr/local/lib/python3.11/dist-packages (from tensorflow) (3.8.0)\n",
            "Requirement already satisfied: h5py>=3.11.0 in /usr/local/lib/python3.11/dist-packages (from tensorflow) (3.12.1)\n",
            "Requirement already satisfied: ml-dtypes<0.5.0,>=0.4.0 in /usr/local/lib/python3.11/dist-packages (from tensorflow) (0.4.1)\n",
            "Requirement already satisfied: tensorflow-io-gcs-filesystem>=0.23.1 in /usr/local/lib/python3.11/dist-packages (from tensorflow) (0.37.1)\n",
            "Requirement already satisfied: scipy>=1.6.0 in /usr/local/lib/python3.11/dist-packages (from scikit-learn) (1.13.1)\n",
            "Requirement already satisfied: joblib>=1.2.0 in /usr/local/lib/python3.11/dist-packages (from scikit-learn) (1.4.2)\n",
            "Requirement already satisfied: threadpoolctl>=3.1.0 in /usr/local/lib/python3.11/dist-packages (from scikit-learn) (3.5.0)\n",
            "Requirement already satisfied: wheel<1.0,>=0.23.0 in /usr/local/lib/python3.11/dist-packages (from astunparse>=1.6.0->tensorflow) (0.45.1)\n",
            "Requirement already satisfied: soupsieve>1.2 in /usr/local/lib/python3.11/dist-packages (from beautifulsoup4>=4.11.1->yfinance) (2.6)\n",
            "Requirement already satisfied: webencodings in /usr/local/lib/python3.11/dist-packages (from html5lib>=1.1->yfinance) (0.5.1)\n",
            "Requirement already satisfied: rich in /usr/local/lib/python3.11/dist-packages (from keras>=3.5.0->tensorflow) (13.9.4)\n",
            "Requirement already satisfied: namex in /usr/local/lib/python3.11/dist-packages (from keras>=3.5.0->tensorflow) (0.0.8)\n",
            "Requirement already satisfied: optree in /usr/local/lib/python3.11/dist-packages (from keras>=3.5.0->tensorflow) (0.14.0)\n",
            "Requirement already satisfied: python-dateutil>=2.8.2 in /usr/local/lib/python3.11/dist-packages (from pandas>=1.3.0->yfinance) (2.8.2)\n",
            "Requirement already satisfied: tzdata>=2022.7 in /usr/local/lib/python3.11/dist-packages (from pandas>=1.3.0->yfinance) (2025.1)\n",
            "Requirement already satisfied: charset-normalizer<4,>=2 in /usr/local/lib/python3.11/dist-packages (from requests>=2.31->yfinance) (3.4.1)\n",
            "Requirement already satisfied: idna<4,>=2.5 in /usr/local/lib/python3.11/dist-packages (from requests>=2.31->yfinance) (3.10)\n",
            "Requirement already satisfied: urllib3<3,>=1.21.1 in /usr/local/lib/python3.11/dist-packages (from requests>=2.31->yfinance) (2.3.0)\n",
            "Requirement already satisfied: certifi>=2017.4.17 in /usr/local/lib/python3.11/dist-packages (from requests>=2.31->yfinance) (2025.1.31)\n",
            "Requirement already satisfied: markdown>=2.6.8 in /usr/local/lib/python3.11/dist-packages (from tensorboard<2.19,>=2.18->tensorflow) (3.7)\n",
            "Requirement already satisfied: tensorboard-data-server<0.8.0,>=0.7.0 in /usr/local/lib/python3.11/dist-packages (from tensorboard<2.19,>=2.18->tensorflow) (0.7.2)\n",
            "Requirement already satisfied: werkzeug>=1.0.1 in /usr/local/lib/python3.11/dist-packages (from tensorboard<2.19,>=2.18->tensorflow) (3.1.3)\n",
            "Requirement already satisfied: MarkupSafe>=2.1.1 in /usr/local/lib/python3.11/dist-packages (from werkzeug>=1.0.1->tensorboard<2.19,>=2.18->tensorflow) (3.0.2)\n",
            "Requirement already satisfied: markdown-it-py>=2.2.0 in /usr/local/lib/python3.11/dist-packages (from rich->keras>=3.5.0->tensorflow) (3.0.0)\n",
            "Requirement already satisfied: pygments<3.0.0,>=2.13.0 in /usr/local/lib/python3.11/dist-packages (from rich->keras>=3.5.0->tensorflow) (2.18.0)\n",
            "Requirement already satisfied: mdurl~=0.1 in /usr/local/lib/python3.11/dist-packages (from markdown-it-py>=2.2.0->rich->keras>=3.5.0->tensorflow) (0.1.2)\n"
          ]
        }
      ]
    },
    {
      "cell_type": "markdown",
      "source": [
        "Fetch and Prepare Stock Data for LSTM"
      ],
      "metadata": {
        "id": "BxoT845w2jsJ"
      }
    },
    {
      "cell_type": "code",
      "source": [
        "import yfinance as yf\n",
        "import pandas as pd\n",
        "import numpy as np\n",
        "import matplotlib.pyplot as plt\n",
        "from sklearn.preprocessing import MinMaxScaler\n",
        "from tensorflow.keras.models import Sequential\n",
        "from tensorflow.keras.layers import LSTM, Dense\n",
        "\n",
        "# Fetch historical stock data\n",
        "def get_stock_data(symbol, period=\"1y\"):\n",
        "    stock = yf.Ticker(symbol)\n",
        "    df = stock.history(period=period)\n",
        "    df = df[['Close']]  # We only need closing prices\n",
        "    return df\n",
        "\n",
        "# Example: Fetch Apple stock data\n",
        "df = get_stock_data(\"AAPL\")\n",
        "print(df.head())\n",
        "\n",
        "# Normalize data for LSTM\n",
        "scaler = MinMaxScaler(feature_range=(0,1))\n",
        "df_scaled = scaler.fit_transform(df)\n",
        "\n",
        "# Prepare dataset for LSTM\n",
        "def create_sequences(data, seq_length=50):\n",
        "    X, y = [], []\n",
        "    for i in range(len(data) - seq_length):\n",
        "        X.append(data[i:i+seq_length])\n",
        "        y.append(data[i+seq_length])\n",
        "    return np.array(X), np.array(y)\n",
        "\n",
        "seq_length = 50\n",
        "X, y = create_sequences(df_scaled, seq_length)\n",
        "\n",
        "# Split into training and testing sets\n",
        "train_size = int(len(X) * 0.8)\n",
        "X_train, y_train = X[:train_size], y[:train_size]\n",
        "X_test, y_test = X[train_size:], y[train_size:]\n",
        "\n",
        "# Reshape for LSTM input\n",
        "X_train = X_train.reshape((X_train.shape[0], X_train.shape[1], 1))\n",
        "X_test = X_test.reshape((X_test.shape[0], X_test.shape[1], 1))\n"
      ],
      "metadata": {
        "colab": {
          "base_uri": "https://localhost:8080/"
        },
        "id": "YafZhLR32ags",
        "outputId": "00deaf99-3d25-4d4a-fca9-3687db4dbc98"
      },
      "execution_count": 9,
      "outputs": [
        {
          "output_type": "stream",
          "name": "stdout",
          "text": [
            "                                Close\n",
            "Date                                 \n",
            "2024-02-07 00:00:00-05:00  188.486603\n",
            "2024-02-08 00:00:00-05:00  187.401932\n",
            "2024-02-09 00:00:00-05:00  188.169128\n",
            "2024-02-12 00:00:00-05:00  186.475266\n",
            "2024-02-13 00:00:00-05:00  184.372864\n"
          ]
        }
      ]
    },
    {
      "cell_type": "markdown",
      "source": [
        "Build & Train the LSTM Model"
      ],
      "metadata": {
        "id": "qpQm5aJD29MM"
      }
    },
    {
      "cell_type": "code",
      "source": [
        "# Define LSTM model\n",
        "model = Sequential([\n",
        "    LSTM(units=50, return_sequences=True, input_shape=(seq_length, 1)),\n",
        "    LSTM(units=50, return_sequences=False),\n",
        "    Dense(units=25),\n",
        "    Dense(units=1)\n",
        "])\n",
        "\n",
        "model.compile(optimizer='adam', loss='mean_squared_error')\n",
        "\n",
        "# Train the model\n",
        "model.fit(X_train, y_train, epochs=20, batch_size=16, validation_data=(X_test, y_test))\n"
      ],
      "metadata": {
        "colab": {
          "base_uri": "https://localhost:8080/"
        },
        "id": "ASl-IiVe3AjO",
        "outputId": "b97be18f-ebb4-4f44-e77a-e17704111f19"
      },
      "execution_count": 10,
      "outputs": [
        {
          "output_type": "stream",
          "name": "stdout",
          "text": [
            "Epoch 1/20\n"
          ]
        },
        {
          "output_type": "stream",
          "name": "stderr",
          "text": [
            "/usr/local/lib/python3.11/dist-packages/keras/src/layers/rnn/rnn.py:200: UserWarning: Do not pass an `input_shape`/`input_dim` argument to a layer. When using Sequential models, prefer using an `Input(shape)` object as the first layer in the model instead.\n",
            "  super().__init__(**kwargs)\n"
          ]
        },
        {
          "output_type": "stream",
          "name": "stdout",
          "text": [
            "\u001b[1m10/10\u001b[0m \u001b[32m━━━━━━━━━━━━━━━━━━━━\u001b[0m\u001b[37m\u001b[0m \u001b[1m5s\u001b[0m 98ms/step - loss: 0.2440 - val_loss: 0.0664\n",
            "Epoch 2/20\n",
            "\u001b[1m10/10\u001b[0m \u001b[32m━━━━━━━━━━━━━━━━━━━━\u001b[0m\u001b[37m\u001b[0m \u001b[1m0s\u001b[0m 40ms/step - loss: 0.0301 - val_loss: 0.0412\n",
            "Epoch 3/20\n",
            "\u001b[1m10/10\u001b[0m \u001b[32m━━━━━━━━━━━━━━━━━━━━\u001b[0m\u001b[37m\u001b[0m \u001b[1m0s\u001b[0m 42ms/step - loss: 0.0127 - val_loss: 0.0095\n",
            "Epoch 4/20\n",
            "\u001b[1m10/10\u001b[0m \u001b[32m━━━━━━━━━━━━━━━━━━━━\u001b[0m\u001b[37m\u001b[0m \u001b[1m1s\u001b[0m 40ms/step - loss: 0.0069 - val_loss: 0.0142\n",
            "Epoch 5/20\n",
            "\u001b[1m10/10\u001b[0m \u001b[32m━━━━━━━━━━━━━━━━━━━━\u001b[0m\u001b[37m\u001b[0m \u001b[1m0s\u001b[0m 44ms/step - loss: 0.0062 - val_loss: 0.0102\n",
            "Epoch 6/20\n",
            "\u001b[1m10/10\u001b[0m \u001b[32m━━━━━━━━━━━━━━━━━━━━\u001b[0m\u001b[37m\u001b[0m \u001b[1m1s\u001b[0m 41ms/step - loss: 0.0046 - val_loss: 0.0106\n",
            "Epoch 7/20\n",
            "\u001b[1m10/10\u001b[0m \u001b[32m━━━━━━━━━━━━━━━━━━━━\u001b[0m\u001b[37m\u001b[0m \u001b[1m0s\u001b[0m 43ms/step - loss: 0.0051 - val_loss: 0.0095\n",
            "Epoch 8/20\n",
            "\u001b[1m10/10\u001b[0m \u001b[32m━━━━━━━━━━━━━━━━━━━━\u001b[0m\u001b[37m\u001b[0m \u001b[1m1s\u001b[0m 43ms/step - loss: 0.0048 - val_loss: 0.0102\n",
            "Epoch 9/20\n",
            "\u001b[1m10/10\u001b[0m \u001b[32m━━━━━━━━━━━━━━━━━━━━\u001b[0m\u001b[37m\u001b[0m \u001b[1m1s\u001b[0m 42ms/step - loss: 0.0047 - val_loss: 0.0094\n",
            "Epoch 10/20\n",
            "\u001b[1m10/10\u001b[0m \u001b[32m━━━━━━━━━━━━━━━━━━━━\u001b[0m\u001b[37m\u001b[0m \u001b[1m1s\u001b[0m 68ms/step - loss: 0.0047 - val_loss: 0.0106\n",
            "Epoch 11/20\n",
            "\u001b[1m10/10\u001b[0m \u001b[32m━━━━━━━━━━━━━━━━━━━━\u001b[0m\u001b[37m\u001b[0m \u001b[1m1s\u001b[0m 58ms/step - loss: 0.0045 - val_loss: 0.0091\n",
            "Epoch 12/20\n",
            "\u001b[1m10/10\u001b[0m \u001b[32m━━━━━━━━━━━━━━━━━━━━\u001b[0m\u001b[37m\u001b[0m \u001b[1m1s\u001b[0m 71ms/step - loss: 0.0040 - val_loss: 0.0093\n",
            "Epoch 13/20\n",
            "\u001b[1m10/10\u001b[0m \u001b[32m━━━━━━━━━━━━━━━━━━━━\u001b[0m\u001b[37m\u001b[0m \u001b[1m1s\u001b[0m 44ms/step - loss: 0.0038 - val_loss: 0.0089\n",
            "Epoch 14/20\n",
            "\u001b[1m10/10\u001b[0m \u001b[32m━━━━━━━━━━━━━━━━━━━━\u001b[0m\u001b[37m\u001b[0m \u001b[1m0s\u001b[0m 41ms/step - loss: 0.0044 - val_loss: 0.0087\n",
            "Epoch 15/20\n",
            "\u001b[1m10/10\u001b[0m \u001b[32m━━━━━━━━━━━━━━━━━━━━\u001b[0m\u001b[37m\u001b[0m \u001b[1m0s\u001b[0m 46ms/step - loss: 0.0047 - val_loss: 0.0084\n",
            "Epoch 16/20\n",
            "\u001b[1m10/10\u001b[0m \u001b[32m━━━━━━━━━━━━━━━━━━━━\u001b[0m\u001b[37m\u001b[0m \u001b[1m1s\u001b[0m 42ms/step - loss: 0.0040 - val_loss: 0.0081\n",
            "Epoch 17/20\n",
            "\u001b[1m10/10\u001b[0m \u001b[32m━━━━━━━━━━━━━━━━━━━━\u001b[0m\u001b[37m\u001b[0m \u001b[1m1s\u001b[0m 40ms/step - loss: 0.0040 - val_loss: 0.0086\n",
            "Epoch 18/20\n",
            "\u001b[1m10/10\u001b[0m \u001b[32m━━━━━━━━━━━━━━━━━━━━\u001b[0m\u001b[37m\u001b[0m \u001b[1m1s\u001b[0m 42ms/step - loss: 0.0041 - val_loss: 0.0085\n",
            "Epoch 19/20\n",
            "\u001b[1m10/10\u001b[0m \u001b[32m━━━━━━━━━━━━━━━━━━━━\u001b[0m\u001b[37m\u001b[0m \u001b[1m1s\u001b[0m 41ms/step - loss: 0.0046 - val_loss: 0.0078\n",
            "Epoch 20/20\n",
            "\u001b[1m10/10\u001b[0m \u001b[32m━━━━━━━━━━━━━━━━━━━━\u001b[0m\u001b[37m\u001b[0m \u001b[1m0s\u001b[0m 43ms/step - loss: 0.0040 - val_loss: 0.0081\n"
          ]
        },
        {
          "output_type": "execute_result",
          "data": {
            "text/plain": [
              "<keras.src.callbacks.history.History at 0x7d6ec5513410>"
            ]
          },
          "metadata": {},
          "execution_count": 10
        }
      ]
    },
    {
      "cell_type": "markdown",
      "source": [
        "Predict Future Prices"
      ],
      "metadata": {
        "id": "m9eXRYNy3I53"
      }
    },
    {
      "cell_type": "code",
      "source": [
        "# Make predictions\n",
        "predictions = model.predict(X_test)\n",
        "\n",
        "# Transform predictions back to original scale\n",
        "predictions = scaler.inverse_transform(predictions)\n",
        "y_test_actual = scaler.inverse_transform(y_test.reshape(-1, 1))\n",
        "\n",
        "# Plot results\n",
        "plt.figure(figsize=(10, 5))\n",
        "plt.plot(y_test_actual, label=\"Actual Prices\")\n",
        "plt.plot(predictions, label=\"Predicted Prices\")\n",
        "plt.legend()\n",
        "plt.title(\"Stock Price Prediction using LSTM\")\n",
        "plt.show()\n"
      ],
      "metadata": {
        "colab": {
          "base_uri": "https://localhost:8080/",
          "height": 485
        },
        "id": "cDCh2QFb3KSG",
        "outputId": "82eb4c47-d7f5-4d81-d2e3-de0e698a125d"
      },
      "execution_count": 11,
      "outputs": [
        {
          "output_type": "stream",
          "name": "stdout",
          "text": [
            "\u001b[1m2/2\u001b[0m \u001b[32m━━━━━━━━━━━━━━━━━━━━\u001b[0m\u001b[37m\u001b[0m \u001b[1m4s\u001b[0m 2s/step\n"
          ]
        },
        {
          "output_type": "display_data",
          "data": {
            "text/plain": [
              "<Figure size 1000x500 with 1 Axes>"
            ],
            "image/png": "[encoded data removed]"
          },
          "metadata": {}
        }
      ]
    },
    {
      "cell_type": "markdown",
      "source": [
        "Optimize Portfolio using Modern Portfolio Theory (MPT)\n",
        "\n",
        "MPT helps allocate investments to maximize return while minimizing risk."
      ],
      "metadata": {
        "id": "MEnJjgfi39bV"
      }
    },
    {
      "cell_type": "code",
      "source": [
        "!pip install numpy pandas matplotlib scipy\n"
      ],
      "metadata": {
        "colab": {
          "base_uri": "https://localhost:8080/"
        },
        "id": "44yCe7Pv4IO5",
        "outputId": "9427bfe3-34a3-4cc2-ce2d-dee21e6768da"
      },
      "execution_count": 12,
      "outputs": [
        {
          "output_type": "stream",
          "name": "stdout",
          "text": [
            "Requirement already satisfied: numpy in /usr/local/lib/python3.11/dist-packages (1.26.4)\n",
            "Requirement already satisfied: pandas in /usr/local/lib/python3.11/dist-packages (2.2.2)\n",
            "Requirement already satisfied: matplotlib in /usr/local/lib/python3.11/dist-packages (3.10.0)\n",
            "Requirement already satisfied: scipy in /usr/local/lib/python3.11/dist-packages (1.13.1)\n",
            "Requirement already satisfied: python-dateutil>=2.8.2 in /usr/local/lib/python3.11/dist-packages (from pandas) (2.8.2)\n",
            "Requirement already satisfied: pytz>=2020.1 in /usr/local/lib/python3.11/dist-packages (from pandas) (2025.1)\n",
            "Requirement already satisfied: tzdata>=2022.7 in /usr/local/lib/python3.11/dist-packages (from pandas) (2025.1)\n",
            "Requirement already satisfied: contourpy>=1.0.1 in /usr/local/lib/python3.11/dist-packages (from matplotlib) (1.3.1)\n",
            "Requirement already satisfied: cycler>=0.10 in /usr/local/lib/python3.11/dist-packages (from matplotlib) (0.12.1)\n",
            "Requirement already satisfied: fonttools>=4.22.0 in /usr/local/lib/python3.11/dist-packages (from matplotlib) (4.55.8)\n",
            "Requirement already satisfied: kiwisolver>=1.3.1 in /usr/local/lib/python3.11/dist-packages (from matplotlib) (1.4.8)\n",
            "Requirement already satisfied: packaging>=20.0 in /usr/local/lib/python3.11/dist-packages (from matplotlib) (24.2)\n",
            "Requirement already satisfied: pillow>=8 in /usr/local/lib/python3.11/dist-packages (from matplotlib) (11.1.0)\n",
            "Requirement already satisfied: pyparsing>=2.3.1 in /usr/local/lib/python3.11/dist-packages (from matplotlib) (3.2.1)\n",
            "Requirement already satisfied: six>=1.5 in /usr/local/lib/python3.11/dist-packages (from python-dateutil>=2.8.2->pandas) (1.17.0)\n"
          ]
        }
      ]
    },
    {
      "cell_type": "markdown",
      "source": [
        " Portfolio Optimization Code"
      ],
      "metadata": {
        "id": "PLrNgeSj4NiG"
      }
    },
    {
      "cell_type": "code",
      "source": [
        "import numpy as np\n",
        "from scipy.optimize import minimize\n",
        "\n",
        "# Example: 3 assets (Apple, Tesla, Amazon)\n",
        "assets = [\"AAPL\", \"TSLA\", \"AMZN\"]\n",
        "df = pd.concat([get_stock_data(asset, period=\"1y\")[\"Close\"] for asset in assets], axis=1)\n",
        "df.columns = assets\n",
        "\n",
        "# Compute daily returns\n",
        "returns = df.pct_change().dropna()\n",
        "\n",
        "# Mean & covariance matrix\n",
        "mean_returns = returns.mean()\n",
        "cov_matrix = returns.cov()\n",
        "\n",
        "# Define portfolio risk & return\n",
        "def portfolio_performance(weights, mean_returns, cov_matrix):\n",
        "    returns = np.sum(mean_returns * weights) * 252  # Annualized return\n",
        "    risk = np.sqrt(np.dot(weights.T, np.dot(cov_matrix * 252, weights)))  # Annualized volatility\n",
        "    return returns, risk\n",
        "\n",
        "# Optimization: Maximize Sharpe Ratio\n",
        "def neg_sharpe_ratio(weights, mean_returns, cov_matrix, risk_free_rate=0.01):\n",
        "    returns, risk = portfolio_performance(weights, mean_returns, cov_matrix)\n",
        "    return -((returns - risk_free_rate) / risk)\n",
        "\n",
        "# Constraints & bounds\n",
        "num_assets = len(assets)\n",
        "constraints = {\"type\": \"eq\", \"fun\": lambda x: np.sum(x) - 1}\n",
        "bounds = tuple((0, 1) for _ in range(num_assets))\n",
        "initial_weights = np.array([1 / num_assets] * num_assets)\n",
        "\n",
        "# Optimize\n",
        "opt_results = minimize(neg_sharpe_ratio, initial_weights, args=(mean_returns, cov_matrix),\n",
        "                       method=\"SLSQP\", bounds=bounds, constraints=constraints)\n",
        "\n",
        "# Optimized weights\n",
        "optimized_weights = opt_results.x\n",
        "optimized_returns, optimized_risk = portfolio_performance(optimized_weights, mean_returns, cov_matrix)\n",
        "\n",
        "# Print results\n",
        "print(\"Optimized Portfolio Allocation:\")\n",
        "for asset, weight in zip(assets, optimized_weights):\n",
        "    print(f\"{asset}: {weight:.2%}\")\n",
        "\n",
        "print(f\"Expected Return: {optimized_returns:.2%}\")\n",
        "print(f\"Expected Risk: {optimized_risk:.2%}\")\n"
      ],
      "metadata": {
        "colab": {
          "base_uri": "https://localhost:8080/"
        },
        "id": "5LYc0zm-4Pl0",
        "outputId": "6b40265b-98dd-41d9-b6c2-77a8b49f1328"
      },
      "execution_count": 13,
      "outputs": [
        {
          "output_type": "stream",
          "name": "stdout",
          "text": [
            "Optimized Portfolio Allocation:\n",
            "AAPL: 23.92%\n",
            "TSLA: 23.49%\n",
            "AMZN: 52.60%\n",
            "Expected Return: 46.66%\n",
            "Expected Risk: 27.02%\n"
          ]
        }
      ]
    },
    {
      "cell_type": "markdown",
      "source": [
        "Automate Alerts for Asset Performance"
      ],
      "metadata": {
        "id": "dB7D0tww4ciJ"
      }
    },
    {
      "cell_type": "code",
      "source": [
        "import smtplib\n",
        "\n",
        "def send_email_alert(asset, current_price, threshold):\n",
        "    sender_email = \"your_email@gmail.com\"\n",
        "    receiver_email = \"your_email@gmail.com\"\n",
        "    password = \"your_app_password\"  # Generate an app password for Gmail SMTP\n",
        "\n",
        "    subject = f\"ALERT: {asset} Price Drop\"\n",
        "    body = f\"The price of {asset} has fallen to ${current_price}, below the threshold of ${threshold}.\"\n",
        "\n",
        "    email_message = f\"Subject: {subject}\\n\\n{body}\"\n",
        "\n",
        "    try:\n",
        "        server = smtplib.SMTP(\"smtp.gmail.com\", 587)\n",
        "        server.starttls()\n",
        "        server.login(sender_email, password)\n",
        "        server.sendmail(sender_email, receiver_email, email_message)\n",
        "        server.quit()\n",
        "        print(f\"Alert sent for {asset}!\")\n",
        "    except Exception as e:\n",
        "        print(f\"Failed to send email: {e}\")\n",
        "\n",
        "# Example: Monitor stock price\n",
        "def monitor_stocks():\n",
        "    conn = sqlite3.connect(\"portfolio.db\")\n",
        "    cursor = conn.cursor()\n",
        "    cursor.execute(\"SELECT asset_name, asset_symbol, current_price FROM financial_assets\")\n",
        "    stocks = cursor.fetchall()\n",
        "    conn.close()\n",
        "\n",
        "    price_thresholds = {\"AAPL\": 130, \"TSLA\": 180, \"AMZN\": 100}\n",
        "\n",
        "    for stock in stocks:\n",
        "        asset, symbol, price = stock\n",
        "        if symbol in price_thresholds and price < price_thresholds[symbol]:\n",
        "            send_email_alert(asset, price, price_thresholds[symbol])\n",
        "\n",
        "monitor_stocks()\n"
      ],
      "metadata": {
        "id": "nUn11zRl4foL"
      },
      "execution_count": 15,
      "outputs": []
    }
  ]
}